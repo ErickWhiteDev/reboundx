{
 "cells": [
  {
   "cell_type": "markdown",
   "metadata": {},
   "source": [
    "#Eccentricity Damping & Migration\n",
    "\n",
    "The reboundxf (xf = eXtra Forces) allows you to easily add additional forces to N-body integrations.  We begin by importing both the rebound and reboundxf modules."
   ]
  },
  {
   "cell_type": "code",
   "execution_count": 1,
   "metadata": {
    "collapsed": false
   },
   "outputs": [],
   "source": [
    "import rebound\n",
    "import reboundxf\n",
    "import numpy as np"
   ]
  },
  {
   "cell_type": "markdown",
   "metadata": {},
   "source": [
    "Now let's set the integrator to IAS15, G to $4\\pi^2$ (so units are in AU, $M_\\odot$, and years), and the time of the integration to $10^4$ years.  Then let's add two planets on initially eccentric orbits, and move to the center of mass frame."
   ]
  },
  {
   "cell_type": "code",
   "execution_count": 2,
   "metadata": {
    "collapsed": false
   },
   "outputs": [],
   "source": [
    "rebound.integrator = \"whfast\"\n",
    "rebound.G = 4*np.pi**2\n",
    "tmax = 1.e4 # years\n",
    "e0 = 0.1\n",
    "ainner = 1.\n",
    "aouter = 10.\n",
    "\n",
    "rebound.add(m=1.)\n",
    "rebound.add(m=1e-6,a=ainner,e=e0)\n",
    "rebound.add(m=1e-6,a=aouter,e=e0)\n",
    "rebound.move_to_com() # Moves to the center of momentum frame"
   ]
  },
  {
   "cell_type": "markdown",
   "metadata": {},
   "source": [
    "Now comes the step of connecting the reboundxf forces to rebound, and setting the damping/migration parameters."
   ]
  },
  {
   "cell_type": "code",
   "execution_count": 3,
   "metadata": {
    "collapsed": false
   },
   "outputs": [],
   "source": [
    "rebound.post_timestep_modifications = reboundxf.modify_elements()\n",
    "\n",
    "reboundxf.set_e_damping_p(1.)\n",
    "taues = [0.,tmax/10.,tmax]\n",
    "tauas = [0.,0.,0.]\n",
    "reboundxf.set_e_damping(taues)\n",
    "reboundxf.set_migration(tauas)"
   ]
  },
  {
   "cell_type": "markdown",
   "metadata": {},
   "source": [
    "The first line is always required to tell rebound to use reboundxf for additional forces.  Eccentricity damping and migration are implemented as forces that lead to an orbit-averaged exponential decay \n",
    "\\begin{equation}\n",
    "a = a_0e^{-t/\\tau_a},\\:\\:\\:e = e_0e^{-t/\\tau_e}\n",
    "\\end{equation}\n",
    "In general, each body will have different damping timescales.  To implement, simply call the above setter functions with a list containing the e-damping (or migration) timescales for each of the bodies, in the same order they were added to the simulation.\n",
    "\n",
    "**Important:** Currently you must only set damping timescales **AFTER** all the particles have been added to the simulation, and this implementation does not support adding or removing particles in the middle of the simulation (e.g. during collisions or particles leaving the box)\n",
    "\n",
    "Now let's integrate, and keep track of the two planets' eccentricities and semimajor axes to test this."
   ]
  },
  {
   "cell_type": "code",
   "execution_count": 5,
   "metadata": {
    "collapsed": false
   },
   "outputs": [],
   "source": [
    "Nout = 1000\n",
    "e1,e2,a1,a2 = np.zeros(Nout), np.zeros(Nout), np.zeros(Nout), np.zeros(Nout)\n",
    "times = np.linspace(0.,tmax,Nout)\n",
    "for i,time in enumerate(times):\n",
    "    rebound.integrate(time)\n",
    "    orbits = rebound.calculate_orbits() # returns an array of orbits, where the 0 element is the first *PLANET*\n",
    "    e1[i] = orbits[0].e\n",
    "    e2[i] = orbits[1].e\n",
    "    a1[i] = orbits[0].a\n",
    "    a2[i] = orbits[1].a"
   ]
  },
  {
   "cell_type": "markdown",
   "metadata": {},
   "source": [
    "Now let's plot it on a linear-log scale to check whether we get the expected exponential behavior.  We'll also overplot the expected exponential decays for comparison."
   ]
  },
  {
   "cell_type": "code",
   "execution_count": 6,
   "metadata": {
    "collapsed": false
   },
   "outputs": [
    {
     "data": {
      "text/plain": [
       "[<matplotlib.lines.Line2D at 0x108a36da0>]"
      ]
     },
     "execution_count": 6,
     "metadata": {},
     "output_type": "execute_result"
    },
    {
     "data": {
      "image/png": "[encoded data removed]",
      "text/plain": [
       "<matplotlib.figure.Figure at 0x1076143c8>"
      ]
     },
     "metadata": {},
     "output_type": "display_data"
    }
   ],
   "source": [
    "e1pred = [e0*np.e**(-t/taues[1]) for t in times]\n",
    "e2pred = [e0*np.e**(-t/taues[2]) for t in times]\n",
    "\n",
    "%matplotlib inline\n",
    "import matplotlib.pyplot as plt\n",
    "fig = plt.figure(figsize=(15,5))\n",
    "ax = plt.subplot(111)\n",
    "ax.set_yscale('log')\n",
    "plt.plot(times,e1)\n",
    "plt.plot(times,e1pred, 'r--')\n",
    "plt.plot(times,e2)\n",
    "plt.plot(times,e2pred, 'r--')"
   ]
  },
  {
   "cell_type": "markdown",
   "metadata": {},
   "source": [
    "Hm...I'm looking into this behavior.  Plotting the semimajor axes,"
   ]
  },
  {
   "cell_type": "code",
   "execution_count": 7,
   "metadata": {
    "collapsed": false
   },
   "outputs": [
    {
     "data": {
      "text/plain": [
       "[<matplotlib.lines.Line2D at 0x108cc0278>]"
      ]
     },
     "execution_count": 7,
     "metadata": {},
     "output_type": "execute_result"
    },
    {
     "data": {
      "image/png": "[encoded data removed]",
      "text/plain": [
       "<matplotlib.figure.Figure at 0x108c67eb8>"
      ]
     },
     "metadata": {},
     "output_type": "display_data"
    }
   ],
   "source": [
    "#a2pred = [aouter*np.e**(-t/tauas[2]) for t in times]\n",
    "\n",
    "fig = plt.figure(figsize=(15,5))\n",
    "ax = plt.subplot(111)\n",
    "ax.set_yscale('log')\n",
    "plt.plot(times,a1)\n",
    "plt.plot(times,a2)\n",
    "#plt.plot(times,a2pred, 'r--')"
   ]
  },
  {
   "cell_type": "code",
   "execution_count": null,
   "metadata": {
    "collapsed": true
   },
   "outputs": [],
   "source": []
  }
 ],
 "metadata": {
  "kernelspec": {
   "display_name": "Python 3",
   "language": "python",
   "name": "python3"
  },
  "language_info": {
   "codemirror_mode": {
    "name": "ipython",
    "version": 3
   },
   "file_extension": ".py",
   "mimetype": "text/x-python",
   "name": "python",
   "nbconvert_exporter": "python",
   "pygments_lexer": "ipython3",
   "version": "3.4.3"
  }
 },
 "nbformat": 4,
 "nbformat_minor": 0
}

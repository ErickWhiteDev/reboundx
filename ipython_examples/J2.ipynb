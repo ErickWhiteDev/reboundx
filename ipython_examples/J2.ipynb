{
 "cells": [
  {
   "cell_type": "markdown",
   "metadata": {},
   "source": [
    "# Adding J2"
   ]
  },
  {
   "cell_type": "markdown",
   "metadata": {},
   "source": [
    "J2 or oblateness is the leading term in gravitational harmonics expansion. In particular, it is necessary to model stellar systems, which are massive, compact, and with rotating components. Generally, this problem is too complex, because each star is distorted by a Roche-like potential (Horvath et al. 2020). Nevertheless, a useful approximation might be that each star is described by the J2, which acts on all other components. Each component has its own rotation axis, with respect to which the acceleration must be computed (and transformed back to the inertial frame)."
   ]
  },
  {
   "cell_type": "markdown",
   "metadata": {},
   "source": [
    "Let's start with a standard setup:"
   ]
  },
  {
   "cell_type": "code",
   "execution_count": 1,
   "metadata": {},
   "outputs": [],
   "source": [
    "import rebound\n",
    "from math import pi\n",
    "sim = rebound.Simulation()\n",
    "sim.add(m = 1.)\n",
    "sim.add(m = 3.e-6, a = 1., e = 0.01, inc = 0.001)\n",
    "sim.move_to_com()"
   ]
  },
  {
   "cell_type": "markdown",
   "metadata": {},
   "source": [
    "Add the J2 force:"
   ]
  },
  {
   "cell_type": "code",
   "execution_count": 2,
   "metadata": {},
   "outputs": [],
   "source": [
    "import reboundx\n",
    "rebx = reboundx.Extras(sim)\n",
    "gh = rebx.load_force(\"gravitational_harmonics\")\n",
    "rebx.add_force(gh)"
   ]
  },
  {
   "cell_type": "markdown",
   "metadata": {},
   "source": [
    "And the respective J2 value (unitless), equatorial radius (au), and spin axis orientation (1):"
   ]
  },
  {
   "cell_type": "code",
   "execution_count": 3,
   "metadata": {},
   "outputs": [],
   "source": [
    "sim.particles[0].params[\"J2\"] = 0.01\n",
    "sim.particles[0].params[\"R_eq\"] = 1/200.\n",
    "sim.particles[0].params[\"Omega\"] = [0.0, 0.0, 1.0]"
   ]
  },
  {
   "cell_type": "markdown",
   "metadata": {},
   "source": [
    "We integrate as normal:"
   ]
  },
  {
   "cell_type": "code",
   "execution_count": 4,
   "metadata": {},
   "outputs": [
    {
     "name": "stdout",
     "output_type": "stream",
     "text": [
      "omega =  0.007489594244093567\n",
      "Omega =  -0.003750639829791344\n"
     ]
    }
   ],
   "source": [
    "import numpy as np\n",
    "\n",
    "times = np.linspace(0, 1.e4, 100)\n",
    "omegas = np.zeros(len(times))\n",
    "Omegas = np.zeros(len(times))\n",
    "\n",
    "for i, time in enumerate(times):\n",
    "    sim.integrate(time)\n",
    "    omegas[i] = sim.particles[1].omega\n",
    "    Omegas[i] = sim.particles[1].Omega\n",
    "\n",
    "print(\"omega = \", omegas[-1])\n",
    "print(\"Omega = \", Omegas[-1])"
   ]
  },
  {
   "cell_type": "markdown",
   "metadata": {},
   "source": [
    "Finally, let's plot the corresponding precession of omega, Omega:"
   ]
  },
  {
   "cell_type": "code",
   "execution_count": 5,
   "metadata": {},
   "outputs": [
    {
     "data": {
      "text/plain": [
       "Text(0, 0.5, 'omegas, Omegas [rad]')"
      ]
     },
     "execution_count": 5,
     "metadata": {},
     "output_type": "execute_result"
    },
    {
     "data": {
      "image/png": "[encoded data removed]",
      "text/plain": [
       "<Figure size 432x288 with 1 Axes>"
      ]
     },
     "metadata": {
      "needs_background": "light"
     },
     "output_type": "display_data"
    }
   ],
   "source": [
    "import matplotlib.pyplot as plt\n",
    "\n",
    "plt.plot(times, omegas)\n",
    "plt.plot(times, Omegas)\n",
    "plt.xlabel(\"times [d]\")\n",
    "plt.ylabel(\"omegas, Omegas [rad]\")"
   ]
  },
  {
   "cell_type": "markdown",
   "metadata": {},
   "source": [
    "As a verification, we also compute precession rates using analytical formulae (e.g., Oplistilova et al. 2020, Appendix A):"
   ]
  },
  {
   "cell_type": "code",
   "execution_count": 6,
   "metadata": {},
   "outputs": [
    {
     "name": "stdout",
     "output_type": "stream",
     "text": [
      "a1 =  0.9999999853760256  au\n",
      "e1 =  0.009999268852048757\n",
      "i1 =  0.000999999955916306 rad\n",
      "m1 =  1.0 M_S\n",
      "m2 =  3e-06 M_S\n",
      "n1 =  1.00000152193487 rad (y/(2pi))^-1\n",
      "eta1 =  0.9999500060615153\n",
      "J2 =  0.01\n",
      "R1 =  0.005 au\n",
      "omegadot1 =  7.501502264940491e-07  rad (y/(2pi))^-1\n",
      "Omegadot1 =  -3.750753945535456e-07  rad (y/(2pi))^-1\n",
      "omega1 =  0.007501502264940492  rad\n",
      "Omega1 =  -0.003750753945535456  rad\n"
     ]
    }
   ],
   "source": [
    "from math import sqrt, cos\n",
    "\n",
    "G = sim.G\n",
    "a1 = sim.particles[1].a\n",
    "e1 = sim.particles[1].e\n",
    "i1 = sim.particles[1].inc\n",
    "m1 = sim.particles[0].m\n",
    "m2 = sim.particles[1].m\n",
    "n1 = sqrt(G*(m1+m2)/a1**3)\n",
    "eta1 = sqrt(1.-e1**2)\n",
    "J2 = sim.particles[0].params[\"J2\"]\n",
    "R1 = sim.particles[0].params[\"R_eq\"]\n",
    "\n",
    "print(\"a1 = \", a1, \" au\")\n",
    "print(\"e1 = \", e1)\n",
    "print(\"i1 = \", i1, \"rad\")\n",
    "print(\"m1 = \", m1, \"M_S\")\n",
    "print(\"m2 = \", m2, \"M_S\")\n",
    "print(\"n1 = \", n1, \"rad (y/(2pi))^-1\")\n",
    "print(\"eta1 = \", eta1)\n",
    "print(\"J2 = \", J2)\n",
    "print(\"R1 = \", R1, \"au\")\n",
    "\n",
    "omegadot1 = 3.*n1*J2*(R1/a1)**2 * (5.*(cos(i1))**2-1.)/(4.*eta1**4)\n",
    "Omegadot1 = -3./2.*n1*J2*(R1/a1)**2 * cos(i1)/eta1**4\n",
    "omega1 = omegadot1*times[-1]\n",
    "Omega1 = Omegadot1*times[-1]\n",
    "\n",
    "print(\"omegadot1 = \", omegadot1, \" rad (y/(2pi))^-1\")\n",
    "print(\"Omegadot1 = \", Omegadot1, \" rad (y/(2pi))^-1\")\n",
    "print(\"omega1 = \", omega1, \" rad\")\n",
    "print(\"Omega1 = \", Omega1, \" rad\")"
   ]
  },
  {
   "cell_type": "markdown",
   "metadata": {},
   "source": [
    "Note: In order to add J4, use \"J4\"."
   ]
  },
  {
   "cell_type": "code",
   "execution_count": null,
   "metadata": {},
   "outputs": [],
   "source": []
  }
 ],
 "metadata": {
  "kernelspec": {
   "display_name": "Python 3",
   "language": "python",
   "name": "python3"
  },
  "language_info": {
   "codemirror_mode": {
    "name": "ipython",
    "version": 3
   },
   "file_extension": ".py",
   "mimetype": "text/x-python",
   "name": "python",
   "nbconvert_exporter": "python",
   "pygments_lexer": "ipython3",
   "version": "3.9.2"
  }
 },
 "nbformat": 4,
 "nbformat_minor": 1
}

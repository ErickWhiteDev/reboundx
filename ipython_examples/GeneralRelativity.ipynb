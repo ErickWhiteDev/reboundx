{
 "cells": [
  {
   "cell_type": "markdown",
   "metadata": {},
   "source": [
    "# Adding Post-Newtonian general relativity corrections\n",
    "\n",
    "It's easy to add post-newtonian corrections to your REBOUND simulations with REBOUNDx.  Let's start with a simulation without GR:"
   ]
  },
  {
   "cell_type": "code",
   "execution_count": 1,
   "metadata": {
    "collapsed": false
   },
   "outputs": [
    {
     "name": "stdout",
     "output_type": "stream",
     "text": [
      "pomega = 0.0000000000000000\n"
     ]
    }
   ],
   "source": [
    "import rebound\n",
    "sim = rebound.Simulation()\n",
    "sim.add(m=1.) # Sun\n",
    "sim.add(m=1.66013e-07,a=0.387098,e=0.205630) # Mercury-like\n",
    "sim.move_to_com() # Moves to the center of momentum frame\n",
    "\n",
    "sim.integrate(10.)\n",
    "print(\"pomega = %.16f\"%sim.calculate_orbits()[0].pomega)"
   ]
  },
  {
   "cell_type": "markdown",
   "metadata": {},
   "source": [
    "As expected, the pericenter did not move at all.  Now let's add GR"
   ]
  },
  {
   "cell_type": "code",
   "execution_count": 4,
   "metadata": {
    "collapsed": false
   },
   "outputs": [
    {
     "name": "stdout",
     "output_type": "stream",
     "text": [
      "1.0\n"
     ]
    }
   ],
   "source": [
    "import reboundx\n",
    "rebx = reboundx.Extras(sim)\n",
    "print(rebx.sim.contents.G)\n",
    "rebx.add_gr()"
   ]
  },
  {
   "cell_type": "code",
   "execution_count": null,
   "metadata": {
    "collapsed": false
   },
   "outputs": [],
   "source": []
  },
  {
   "cell_type": "markdown",
   "metadata": {},
   "source": [
    "and run for another 100 time units"
   ]
  },
  {
   "cell_type": "code",
   "execution_count": 4,
   "metadata": {
    "collapsed": false
   },
   "outputs": [
    {
     "name": "stdout",
     "output_type": "stream",
     "text": [
      "pomega = 0.0000332618551934\n",
      "Rate of change of pomega = 43.1083 [arcsec / Julian century]\n"
     ]
    }
   ],
   "source": [
    "deltat = 100.\n",
    "sim.integrate(sim.t + deltat)\n",
    "print(\"pomega = %.16f\"%sim.calculate_orbits()[0].pomega)\n",
    "juliancentury = 628.33195 # in yr/2pi\n",
    "arcsec = 4.8481368e-06 # in rad\n",
    "print(\"Rate of change of pomega = %.4f [arcsec / Julian century]\"% (sim.calculate_orbits()[0].pomega/deltat*juliancentury/arcsec))"
   ]
  },
  {
   "cell_type": "markdown",
   "metadata": {},
   "source": [
    "As expected there was pericenter precession. The literature value is 42.98 arcsec / century. "
   ]
  },
  {
   "cell_type": "markdown",
   "metadata": {
    "collapsed": true
   },
   "source": [
    "**Units**\n",
    "\n",
    "To add GR, you need to pass `add_gr` the speed of light `c` in the units appropriate to the simulation.  By not passing a value above, `c` defaulted to our default units of AU, $M_\\odot$ and yr/$2\\pi$, for which `G=1` which is what we used for our initial conditions above.\n",
    "\n",
    "But imagine now we wanted to instead use SI units:"
   ]
  },
  {
   "cell_type": "code",
   "execution_count": 5,
   "metadata": {
    "collapsed": false
   },
   "outputs": [
    {
     "name": "stdout",
     "output_type": "stream",
     "text": [
      "pomega = 0.0000000000000000\n",
      "pomega = 0.0000000000000000\n",
      "Rate of change of pomega = 0.0000 [arcsec / Julian century]\n"
     ]
    }
   ],
   "source": [
    "import rebound\n",
    "import reboundx\n",
    "sim = rebound.Simulation()\n",
    "sim.G = 6.67408e-11\n",
    "sim.add(m=1.989e30) # Sun\n",
    "sim.add(m=3.30216458e23,a=5.79090366e10,e=0.205630) # SI units\n",
    "sim.move_to_com() # Moves to the center of momentum frame\n",
    "\n",
    "import numpy as np\n",
    "sim.integrate(10./2/np.pi)\n",
    "print(\"pomega = %.16f\"%sim.calculate_orbits()[0].pomega)\n",
    "rebx = reboundx.Extras(sim)\n",
    "rebx.add_gr(c=3.e8)\n",
    "deltat = 100./2/np.pi\n",
    "sim.integrate(sim.t + deltat)\n",
    "print(\"pomega = %.16f\"%sim.calculate_orbits()[0].pomega)\n",
    "arcsec = 4.8481368e-06 # in rad\n",
    "print(\"Rate of change of pomega = %.4f [arcsec / Julian century]\"% (sim.calculate_orbits()[0].pomega/deltat*100./arcsec))"
   ]
  },
  {
   "cell_type": "code",
   "execution_count": null,
   "metadata": {
    "collapsed": false
   },
   "outputs": [],
   "source": [
    "print(rebx.gr.c)"
   ]
  },
  {
   "cell_type": "code",
   "execution_count": null,
   "metadata": {
    "collapsed": true
   },
   "outputs": [],
   "source": []
  }
 ],
 "metadata": {
  "kernelspec": {
   "display_name": "Python 3",
   "language": "python",
   "name": "python3"
  },
  "language_info": {
   "codemirror_mode": {
    "name": "ipython",
    "version": 3
   },
   "file_extension": ".py",
   "mimetype": "text/x-python",
   "name": "python",
   "nbconvert_exporter": "python",
   "pygments_lexer": "ipython3",
   "version": "3.4.3"
  }
 },
 "nbformat": 4,
 "nbformat_minor": 0
}
